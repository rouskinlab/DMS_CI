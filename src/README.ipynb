{
 "cells": [
  {
   "attachments": {},
   "cell_type": "markdown",
   "metadata": {},
   "source": [
    "[Automatically generated from src/README.ipynb]\n",
    "\n",
    "# DMS confidence intervals\n",
    "\n",
    "## Installation\n",
    "\n",
    "```bash\n",
    "pip install dms_ci\n",
    "```\n",
    "\n",
    "## Usage\n",
    "\n",
    "```python\n",
    "import numpy as np\n",
    "from dms_ci import dms_ci\n",
    "\n",
    "N = np.array([100, 100, 100, 100, 100, 100, 100, 100, 100, 100])\n",
    "n = np.array([10, 10, 10, 10, 10, 10, 10, 10, 10, 10])\n",
    "\n",
    "low, high = dms_ci(N, n)\n",
    "```\n",
    "\n",
    "## About this package\n",
    "\n",
    "This package provides a method to calculate confidence intervals for the DMS-MaPseq method, described below. The method is based on the Wilson score interval, which is described in detail below.\n",
    "\n"
   ]
  },
  {
   "cell_type": "code",
   "execution_count": null,
   "metadata": {},
   "outputs": [],
   "source": [
    "from dms_ci import dms_ci\n",
    "print(dms_ci.__doc__)"
   ]
  },
  {
   "cell_type": "markdown",
   "metadata": {},
   "source": [
    "\n",
    "\n",
    "## About the DMS-MaPseq method\n",
    "\n",
    "DMS-MaPseq is a chemical probing method combined with high throughput sequencing used to study RNA structure. The method is based on the chemical modification of RNA with a DMS reagent, which is then sequenced. The resulting data is a set of modified nucleotides, which can be used to infer the structure of the RNA. The DMS-MaPseq method is described in detail in the [DMS-MaPseq paper](https://pubmed.ncbi.nlm.nih.gov/33326078/).\n"
   ]
  },
  {
   "attachments": {},
   "cell_type": "markdown",
   "metadata": {},
   "source": [
    "\n",
    "## About the confidence intervals method\n",
    "\n",
    "The confidence intervals method is based on the assumption that the number of modified nucleotides is a binomial distribution. The confidence intervals are calculated using the Wilson score interval, which has shown to perform better than bootstrapping for small sample sizes (<3,000 reads). The method is decribed in details below.\n",
    "\n",
    "### Basics and terminology\n",
    "\n",
    "The DMS-MaPseq method consists in amplificating one or several RNA molecules with a PCR, and then sequencing a sub-sample of the resulting RNA. The resulting data is a set of modified nucleotides, which can be used to infer the structure of the RNA. The mutation rate is typically around 1% to 10% for a given position.\n",
    "\n",
    "- ``mutation`` = substitution of a nucleotide by another nucleotide\n",
    "- ``read`` = a sequence of nucleotides that has been sequenced\n",
    "- ``position`` = the position of a nucleotide in a sequence\n",
    "- ``mutation rate`` = the probability of observing a mutation at a given position\n",
    "\n",
    "We want to know, when observing a mutation rate at a certain position, what is a confidence interval for this value.\n",
    "\n",
    "### Assumptions\n",
    "\n",
    "We will assume that:\n",
    "- The experiment is perfectly reproducible.\n",
    "- The sequencing is perfect.\n",
    "- The only source of error is the random sampling of reads.\n",
    "- The mutation probability is NOT constant across the reads (e.g, the probability of observing a mutation at a certain position is not the same for all reads).\n",
    "\n",
    "### Method \n",
    "\n",
    "We use the **Wilson score interval**, which is a method to calculate confidence intervals for binomial distributions.\n",
    "\n",
    "$$ \\hat{p} = \\frac{n}{N} $$\n",
    "\n",
    "$$ z_{\\alpha/2} = \\Phi^{-1}(1-\\alpha/2) $$\n",
    "\n",
    "$$ \\hat{p} \\pm z_{\\alpha/2} \\sqrt{\\frac{\\hat{p}(1-\\hat{p})}{N}} $$\n",
    "\n",
    "where $n$ is the number of mutations, $N$ is the number of reads, and $z_{\\alpha/2}$ is the $1-\\alpha/2$ quantile of the standard normal distribution.\n",
    "\n",
    "### Comparing experimentally different methods for binomial distributions confidence intervals\n",
    "\n",
    "We compared the performances of the following methods:\n",
    "- Bootstrapping\n",
    "- Wilson score interval\n",
    "- Clopper-Pearson interval\n",
    "- Agresti-Coull interval\n",
    "- Poisson interval by approximating the binomial distribution with a Poisson distribution\n",
    "   \n",
    "Wilson score has shown to be the best method for small sample sizes (<3,000 reads), and performs comparably to best-performing bootstrapping for larger sample sizes.\n",
    "\n",
    "The following figure shows the results of a simulation comparing the performance of different methods for binomial distributions confidence intervals. \n",
    "1. We loaded ``4 real datasets`` of over ``200,000 reads``, each read being ``170 nucleotides`` long. The mutation rate distribution across the positions is shown in figure A.\n",
    "2. We subsampled ``N = [500, 1000, 2000, 3000, 5000, 10000] reads``,  ``100,000 times`` from each dataset, and calculated the confidence intervals for each position using the different methods.\n",
    "3. For each read of ``170 nucleotides``, we calculated how many times the true mutation rate was within the confidence interval for each method. The distribution of this \"success rate\" is shown in figure B. \n",
    "\n",
    "A good method should have a small bias (e.g, be centered around 5%) and a small variance. "
   ]
  },
  {
   "cell_type": "code",
   "execution_count": 3,
   "metadata": {},
   "outputs": [
    {
     "name": "stdout",
     "output_type": "stream",
     "text": [
      "The autoreload extension is already loaded. To reload it, use:\n",
      "  %reload_ext autoreload\n"
     ]
    }
   ],
   "source": [
    "from src import compare_methods\n",
    "compare_methods()"
   ]
  },
  {
   "cell_type": "markdown",
   "metadata": {},
   "source": [
    "\n",
    "\n",
    "### Why can we approximate the number of mutations with a binomial distribution?\n",
    "\n",
    "Let's say we have a set of ``N`` reads of a single nucleotide, and ``n`` of them are mutated. The mutation rate is then ``n/N``. We want a confidence interval for this mutation rate.\n",
    "\n",
    "Let's define $p_i$ the probability of mutation for the i-th read. Then ``n`` follows the distribution $f([p_1, p_2, ..., p_N]) := \\sum_{i=1}^{N} X_i$, where $X_i$ is a Bernoulli random variable with parameter $p_i$.\n",
    "\n",
    "According to [the binomial sum variance inequality](https://en.wikipedia.org/wiki/Binomial_sum_variance_inequality), the variance of the sum of $N$ independent Bernoulli random variables is bounded by $Np(1-p)$, where $p$ is the mean of the Bernoulli random variables. In our case, \n",
    "\n",
    "$$ Var(f([p_1, p_2, ..., p_N])) ≤ Np(1-p) $$ \n",
    "\n",
    "where $p = \\frac{1}{N} \\sum_{i=1}^{N} p_i $.\n",
    "\n",
    "We can then use the binomial distribution $X \\sim Bin(N, p)$ to approximate $f([p_1, p_2, ..., p_N])$.\n"
   ]
  }
 ],
 "metadata": {
  "kernelspec": {
   "display_name": "dmsci",
   "language": "python",
   "name": "python3"
  },
  "language_info": {
   "codemirror_mode": {
    "name": "ipython",
    "version": 3
   },
   "file_extension": ".py",
   "mimetype": "text/x-python",
   "name": "python",
   "nbconvert_exporter": "python",
   "pygments_lexer": "ipython3",
   "version": "3.11.0"
  },
  "orig_nbformat": 4
 },
 "nbformat": 4,
 "nbformat_minor": 2
}
